{
 "cells": [
  {
   "cell_type": "markdown",
   "metadata": {},
   "source": [
    "## 控制迷宫寻宝机器人\n",
    "\n",
    "在这个项目中，你将使用刚刚学到的知识，尝试根据要求，编写代码，来控制一个机器人，在模拟环境中行走，并找到目标宝藏。\n",
    "\n",
    "机器人所在的模拟环境中，会包含这样几个因素：机器人的起点、障碍物、宝藏箱。你的任务包括：\n",
    "\n",
    "1. 分析模拟环境的数据\n",
    "2. 控制机器人随机行动\n",
    "3. （可选）控制机器人走到终点\n",
    "\n",
    "\n",
    "* 一个良好的含有注释的代码，可以让你的程序可读性更高，尝试为你自己的代码添加相应的注释。"
   ]
  },
  {
   "cell_type": "markdown",
   "metadata": {},
   "source": [
    "---\n",
    "\n",
    "---\n",
    "\n",
    "## 第一节 分析模拟环境的数据\n",
    "\n",
    "首先，只有足够了解机器人所在的环境，我们的机器人才能成功找到目标宝藏，因此首先我们来对机器人所在环境的数据进行分析。在这个部分，会考察你对数据结构、控制流的了解。\n"
   ]
  },
  {
   "cell_type": "markdown",
   "metadata": {},
   "source": [
    "### 1.1 理解模拟环境数据的储存格式\n",
    "\n",
    "首先我们思考这样的问题：如何存储模拟环境的数据呢？\n",
    "\n",
    "我们将我们的模拟环境抽象成一个格子世界，每个格子按照坐标编号进行标记；每个格子中会有四个情况，分别为普通格子（可通行）、机器人的起点（可通行）、障碍物（不可通行）、宝藏箱（目标点）。例如，一个模拟环境就可以抽象成3行4列的格子世界，并按这按这样的方法进行存储：\n",
    "```\n",
    "environment = [[0,0,0,2], \n",
    "               [1,2,0,0],\n",
    "               [0,2,3,2]]\n",
    "```\n",
    "我们用了一个列表来保存虚拟世界的数据。外层列表中的每一个元素依然是一个列表，它代表模拟环境中每行的数据。而对于这个列表中的每个元素都是一个数，它们的含义是：\n",
    "- 0: 普通格子（可通行）\n",
    "- 1: 机器人的起点（可通行）\n",
    "- 2: 障碍物（不可通行）\n",
    "- 3: 宝藏箱（目标点）\n",
    "\n",
    "那么，根据上述的数据，这个迷宫的第二行第一列，是我们机器人的起点。\n",
    "\n",
    "__注：我们描述的迷宫的坐标位置（第一行第一列），和迷宫下标索引的值（如 `(0,0)`）是不一样的，请注意下标的问题。__\n",
    "\n",
    "\n",
    "如下的代码，使用了辅助函数，读取了模拟环境的数据，并保存在了 `env_data` 变量中。\n"
   ]
  },
  {
   "cell_type": "code",
   "execution_count": 1,
   "metadata": {},
   "outputs": [
    {
     "name": "stdout",
     "output_type": "stream",
     "text": [
      "maze-id 1-1581393985\n",
      "[[3, 2, 2, 2, 2, 2, 2, 2, 1],\n",
      " [0, 0, 2, 2, 2, 2, 2, 0, 0],\n",
      " [2, 0, 0, 2, 2, 2, 0, 0, 2],\n",
      " [2, 2, 0, 0, 2, 0, 0, 2, 2],\n",
      " [2, 2, 2, 0, 0, 0, 2, 2, 2]]\n"
     ]
    }
   ],
   "source": [
    "import helper\n",
    "\n",
    "env_data = helper.fetch_maze()"
   ]
  },
  {
   "cell_type": "markdown",
   "metadata": {},
   "source": [
    "---\n",
    "\n",
    "\n",
    "**任务1：**在如下代码中，请写代码获得这些值：\n",
    "\n",
    "1. 模拟环境的长和宽\n",
    "2. 模拟环境中第3行第6列元素"
   ]
  },
  {
   "cell_type": "code",
   "execution_count": 2,
   "metadata": {},
   "outputs": [
    {
     "name": "stdout",
     "output_type": "stream",
     "text": [
      "迷宫共有 5 行 9 列，第三行第六列的元素是 2\n"
     ]
    }
   ],
   "source": [
    "#TODO 1模拟环境的行数\n",
    "rows = len(env_data)\n",
    "\n",
    "#TODO 2模拟环境的列数\n",
    "columns = len(env_data[0])\n",
    "\n",
    "#TODO 3取出模拟环境第三行第六列的元素                   \n",
    "row_3_col_6 = env_data[2][5] \n",
    "\n",
    "\n",
    "print(\"迷宫共有\", rows, \"行\", columns, \"列，第三行第六列的元素是\", row_3_col_6)"
   ]
  },
  {
   "cell_type": "markdown",
   "metadata": {
    "collapsed": true
   },
   "source": [
    "---\n",
    "\n",
    "## 1.2 分析模拟环境数据\n",
    "\n",
    "接着我们需要对模拟环境的中的数据进行分析。请根据如下的指示，计算相应的值。\n",
    "\n",
    "---\n",
    "\n",
    "**任务2：**在如下代码中，请计算模拟环境中，第一行和第三列的障碍物个数。\n",
    "\n",
    "提示：*可以用循环完成。*"
   ]
  },
  {
   "cell_type": "code",
   "execution_count": 3,
   "metadata": {},
   "outputs": [
    {
     "name": "stdout",
     "output_type": "stream",
     "text": [
      "迷宫中，第一行共有 7 个障碍物，第三列共有 3 个障碍物。\n"
     ]
    }
   ],
   "source": [
    "#TODO 4计算模拟环境中，第一行的的障碍物个数。\n",
    "number_of_barriers_row1 = 0\n",
    "for items in env_data[0]:\n",
    "    if items == 2:\n",
    "        number_of_barriers_row1 = number_of_barriers_row1 + 1\n",
    "        \n",
    "\n",
    "#TODO 5计算模拟环境中，第三列的的障碍物个数。\n",
    "number_of_barriers_col3 = 0\n",
    "for items in range(rows):\n",
    "    if env_data[items][2] == 2:\n",
    "        number_of_barriers_col3 = number_of_barriers_col3 + 1\n",
    "    \n",
    "\n",
    "print(\"迷宫中，第一行共有\", number_of_barriers_row1, \"个障碍物，第三列共有\", number_of_barriers_col3, \"个障碍物。\")"
   ]
  },
  {
   "cell_type": "code",
   "execution_count": 4,
   "metadata": {},
   "outputs": [
    {
     "name": "stderr",
     "output_type": "stream",
     "text": [
      ".\n",
      "----------------------------------------------------------------------\n",
      "Ran 1 test in 0.001s\n",
      "\n",
      "OK\n"
     ]
    }
   ],
   "source": [
    "%run -i -e test.py RobotControllortTestCase.test_cal_barriers"
   ]
  },
  {
   "cell_type": "markdown",
   "metadata": {},
   "source": [
    "---\n",
    "\n",
    "**任务3：**在如下代码中：\n",
    "\n",
    "1. 创建一个名为 `loc_map` 的字典，它有两个键值，分别为 `start` 和 `destination`，对应的值分别为起点和目标点的坐标，它们以如 `(0,0)` 的形式保存为元组。\n",
    "2. 从字典中取出 `start` 对应的值，保存在 `robot_current_loc` 对应的变量中，这个变量表示小车现在的位置。"
   ]
  },
  {
   "cell_type": "code",
   "execution_count": 5,
   "metadata": {},
   "outputs": [],
   "source": [
    "loc_map = {'start': (0,8),'destination':(0,0)} #TODO 6按照上述要求创建字典\n",
    "\n",
    "robot_current_loc = loc_map['start'] #TODO 7保存机器人当前的位置\n",
    "#print(robot_current_loc)"
   ]
  },
  {
   "cell_type": "code",
   "execution_count": 6,
   "metadata": {},
   "outputs": [
    {
     "name": "stderr",
     "output_type": "stream",
     "text": [
      ".\n",
      "----------------------------------------------------------------------\n",
      "Ran 1 test in 0.001s\n",
      "\n",
      "OK\n"
     ]
    }
   ],
   "source": [
    "%run -i -e test.py RobotControllortTestCase.test_cal_loc_map"
   ]
  },
  {
   "cell_type": "markdown",
   "metadata": {},
   "source": [
    "\n",
    "---\n",
    "\n",
    "---\n",
    "\n",
    "## 第二节 控制机器人随机漫步\n",
    "\n",
    "在这一步中，你需发出指令，控制机器人在环境中随机行动。它会考察你对控制流、调用函数的知识。"
   ]
  },
  {
   "cell_type": "markdown",
   "metadata": {},
   "source": [
    "\n",
    "\n",
    "## 2.1 控制机器人行动\n",
    "\n",
    "我们的机器人能够执行四个动作：向上走 `u`、向下走 `d`、向左走 `l`、向右走 `r`。但是，由于有障碍，很多时候机器人的行动并不能成功。所以在这里，你需要实现一个函数，来判断机器人在某个位置，执行某个移动动作是否可行。\n",
    "\n",
    "---\n",
    "\n",
    "**任务4：**在下方代码中，实现名为 `is_move_valid_special` 的函数，它有两个输入，分别为机器人所在的位置坐标 `loc`，以及即将执行的动作 `act`，如 `(1,1)` 及 `u`。接着它的返回是一个布尔值，表明小车在 `loc` 位置下，是否可以执行动作 `act`。\n",
    "\n",
    "\n",
    "提示1：*可以读取上方定义的 `env_data` 变量，来读取模拟环境的数据。*\n",
    "\n",
    "提示2：*在实现函数后，请删去下方的 `pass` 代码。*\n",
    "\n",
    "提示3：*我们需要处理边界的情况，即机器人走到了虚拟环境边界时，是不能够走出虚拟环境的。*"
   ]
  },
  {
   "cell_type": "code",
   "execution_count": 7,
   "metadata": {},
   "outputs": [],
   "source": [
    "def is_move_valid_special(loc, act):\n",
    "    row = loc[0]\n",
    "    column = loc[1]\n",
    "    if act == 'd':\n",
    "        if (row + 1) > len(env_data)-1:\n",
    "            return False\n",
    "        elif env_data[row+1][column] == 2:\n",
    "            return False\n",
    "        else:\n",
    "            return True\n",
    "        \n",
    "    if act == 'u':\n",
    "        if (row - 1) < 0:\n",
    "            return False\n",
    "        elif env_data[row-1][column] == 2:\n",
    "            return False\n",
    "        else:\n",
    "            return True\n",
    "    \n",
    "    if act == 'l':\n",
    "        if (column - 1) < 0:\n",
    "            return False\n",
    "        elif env_data[row][column-1] == 2:\n",
    "            return False\n",
    "        else:\n",
    "            return True\n",
    "    if act == 'r':\n",
    "        if (column + 1) > len(env_data[0])-1:\n",
    "            return False\n",
    "        elif env_data[row][column+1] == 2:\n",
    "            return False\n",
    "        else:\n",
    "            return True\n",
    "    \"\"\"\n",
    "    Judge wether the robot can take action act\n",
    "    at location loc.\n",
    "    \n",
    "    Keyword arguments:\n",
    "    loc -- tuple, robots current location\n",
    "    act -- string, robots meant action\n",
    "    \"\"\""
   ]
  },
  {
   "cell_type": "code",
   "execution_count": 8,
   "metadata": {},
   "outputs": [
    {
     "name": "stderr",
     "output_type": "stream",
     "text": [
      ".\n",
      "----------------------------------------------------------------------\n",
      "Ran 1 test in 0.001s\n",
      "\n",
      "OK\n"
     ]
    }
   ],
   "source": [
    "%run -i -e test.py RobotControllortTestCase.test_is_move_valid_special"
   ]
  },
  {
   "cell_type": "markdown",
   "metadata": {},
   "source": [
    "---\n",
    "**任务5：**在下方代码中，重新实现一个名为 `is_move_valid` 的函数，它有三个输入，分别为模拟环境的数据 `env_data`、机器人所在的位置坐标 `loc`、以及即将执行的动作 `act`。它的返回值与此前一样，是一个布尔值，表明小车在给定的虚拟环境中的 `loc` 位置下，是否可以执行动作 `act`。"
   ]
  },
  {
   "cell_type": "code",
   "execution_count": 9,
   "metadata": {},
   "outputs": [],
   "source": [
    "def is_move_valid(env_data, loc, act):\n",
    "    row = loc[0]\n",
    "    column = loc[1]\n",
    "    if act == 'd':\n",
    "        if (row + 1) > len(env_data)-1:\n",
    "            return False\n",
    "        elif env_data[row+1][column] == 2:\n",
    "            return False\n",
    "        else:\n",
    "            return True\n",
    "        \n",
    "    if act == 'u':\n",
    "        if (row - 1) < 0:\n",
    "            return False\n",
    "        elif env_data[row-1][column] == 2:\n",
    "            return False\n",
    "        else:\n",
    "            return True\n",
    "    \n",
    "    if act == 'l':\n",
    "        if (column - 1) < 0:\n",
    "            return False\n",
    "        elif env_data[row][column-1] == 2:\n",
    "            return False\n",
    "        else:\n",
    "            return True\n",
    "    if act == 'r':\n",
    "        if (column + 1) > len(env_data[0])-1:\n",
    "            return False\n",
    "        elif env_data[row][column+1] == 2:\n",
    "            return False\n",
    "        else:\n",
    "            return True\n",
    "    \"\"\"\n",
    "    Judge wether the robot can take action act\n",
    "    at location loc.\n",
    "    \n",
    "    Keyword arguments:\n",
    "    env -- list, the environment data\n",
    "    loc -- tuple, robots current location\n",
    "    act -- string, robots meant action\n",
    "    \"\"\"\n",
    "    #TODO 9\n",
    "    #pass"
   ]
  },
  {
   "cell_type": "code",
   "execution_count": 10,
   "metadata": {},
   "outputs": [
    {
     "name": "stderr",
     "output_type": "stream",
     "text": [
      ".\n",
      "----------------------------------------------------------------------\n",
      "Ran 1 test in 0.001s\n",
      "\n",
      "OK\n"
     ]
    }
   ],
   "source": [
    "%run -i -e test.py RobotControllortTestCase.test_is_move_valid"
   ]
  },
  {
   "cell_type": "markdown",
   "metadata": {},
   "source": [
    "---\n",
    "\n",
    "**任务6：**请回答：\n",
    "  1. 在任务4及任务5中的实现的两个函数中，`env_data` 这个变量有什么不同？\n",
    "  2. 调用``is_move_valid``函数，参数为``env_data_``、``loc_``、``act_``，如果在函数内修改``env_data``是否会改变``env_data_``的值？为什么？\n",
    "  \n",
    "提示：_可以尝试从变量作用域的角度回答该问题1。_\n",
    "\n",
    "\n",
    "提示：_可以尝试从可变类型变量和不可变类型变量的角度回答该问题2。_\n",
    "\n"
   ]
  },
  {
   "cell_type": "markdown",
   "metadata": {},
   "source": [
    "**回答：** （请在这里填写你的回答）\n",
    "1. \n",
    "在任务4中，env_data可以适用于整个模块，同时也适用于模块下的函数，是全局变量。\n",
    "在任务5中，在is_move_valid函数中的env_data这个变量只适用于函数，不会对模块里的其他变量产生影响。是局部变量。\n",
    "2. \n",
    "在函数内修改env_data会改变env_data的值，因为env_data是列表类型，列表类型是可变类型变量。\n",
    "列表通过“传引用”来传递对象。不同于值传递过程，在引用传递过程中，被调函数的形式参数作为局部变量虽然也在堆栈中开辟了内存空间，不过这时存放的是由主调函数放进来的实参变量的地址。被调函数对形参的任何操作都被处理成间接寻址，即通过堆栈中存放的地址访问主调函数中的实参变量。正因为如此，被调函数对形参做的任何操作都影响了主调函数中的实参变量。\n",
    "答案参考网站地址：https://www.cnblogs.com/loleina/p/5276918.html"
   ]
  },
  {
   "cell_type": "markdown",
   "metadata": {},
   "source": [
    "---\n",
    "\n",
    "## 2.2 机器人可行动作\n",
    "\n",
    "---\n",
    "\n",
    "**任务7：**编写一个名为 `valid_actions` 的函数。它有两个输入，分别为虚拟环境的数据 `env_data`，以及机器人所在的位置 `loc`，输出是一个列表，表明机器人在这个位置所有的可行动作。\n",
    "\n",
    "提示：*可以尝试调用上方定义的`is_move_valid`函数。*\n"
   ]
  },
  {
   "cell_type": "code",
   "execution_count": 11,
   "metadata": {},
   "outputs": [],
   "source": [
    "## TODO 10 从头定义、实现你的函数\n",
    "def valid_actions(env_data, loc):\n",
    "    action = []\n",
    "    if is_move_valid(env_data, loc, 'u'):\n",
    "        action.append(\"u\")\n",
    "    if is_move_valid(env_data, loc, 'l'):\n",
    "        action.append(\"l\")\n",
    "    if is_move_valid(env_data, loc, 'r'):\n",
    "        action.append(\"r\")\n",
    "    if is_move_valid(env_data, loc, 'd'):\n",
    "        action.append(\"d\")\n",
    "    return action"
   ]
  },
  {
   "cell_type": "code",
   "execution_count": 12,
   "metadata": {},
   "outputs": [
    {
     "name": "stderr",
     "output_type": "stream",
     "text": [
      ".\n",
      "----------------------------------------------------------------------\n",
      "Ran 1 test in 0.001s\n",
      "\n",
      "OK\n"
     ]
    }
   ],
   "source": [
    "%run -i -e test.py RobotControllortTestCase.test_valid_actions"
   ]
  },
  {
   "cell_type": "markdown",
   "metadata": {},
   "source": [
    "---\n",
    "\n",
    "## 2.3 移动机器人\n",
    "\n",
    "当机器人收到一个动作的时候，你机器人的位置应发生相应的变化。\n",
    "\n",
    "**任务8：**编写一个名为 `move_robot` 的函数，它有两个输入，分别为机器人当前所在的位置 `loc` 和即将执行的动作 `act`。接着会返回机器人执行动作之后的新位置 `new_loc`。"
   ]
  },
  {
   "cell_type": "code",
   "execution_count": 13,
   "metadata": {},
   "outputs": [],
   "source": [
    "##TODO 11 从头定义、实现你的函数\n",
    "def move_robot(loc, act):\n",
    "    new_loc = ()\n",
    "    if act == 'u':\n",
    "        new_loc = (loc[0]-1, loc[1])\n",
    "    if act == 'd':\n",
    "        new_loc = (loc[0]+1, loc[1])\n",
    "    if act == 'r':\n",
    "        new_loc = (loc[0], loc[1]+1)\n",
    "    if act == 'l':\n",
    "        new_loc = (loc[0], loc[1]-1)\n",
    "    return new_loc"
   ]
  },
  {
   "cell_type": "code",
   "execution_count": 14,
   "metadata": {},
   "outputs": [
    {
     "name": "stderr",
     "output_type": "stream",
     "text": [
      ".\n",
      "----------------------------------------------------------------------\n",
      "Ran 1 test in 0.001s\n",
      "\n",
      "OK\n"
     ]
    }
   ],
   "source": [
    "%run -i -e test.py RobotControllortTestCase.test_move_robot"
   ]
  },
  {
   "cell_type": "markdown",
   "metadata": {},
   "source": [
    "---\n",
    "\n",
    "## 2.4 随机移动机器人\n",
    "\n",
    "接着，我们尝试在虚拟环境中随机移动机器人，看看会有什么效果。\n",
    "\n",
    "**任务9：**编写一个名为 `random_choose_actions` 的函数，它有两个输入，分别为虚拟环境的数据 `env_data`，以及机器人所在的位置 `loc`。机器人会执行一个300次的循环，每次循环，他会执行以下任务：\n",
    "\n",
    "1. 利用上方定义的 `valid_actions` 函数，找出当前位置下，机器人可行的动作；\n",
    "2. 利用 `random` 库中的 `choice` 函数，从机器人可行的动作中，随机挑选出一个动作；\n",
    "3. 接着根据这个动作，利用上方定义的 `move_robot` 函数，来移动机器人，并更新机器人的位置；\n",
    "4. 当机器人走到终点时，输出“在第n个回合找到宝藏！”。\n",
    "\n",
    "提示：如果机器人无法在300个回合内找到宝藏的话，试试看增大这个数字，也许会有不错的效果 :P"
   ]
  },
  {
   "cell_type": "code",
   "execution_count": 15,
   "metadata": {},
   "outputs": [],
   "source": [
    "##TODO 12 从头实现你的函数\n",
    "import random\n",
    "\n",
    "\n",
    "def random_choose_actions(env_data, loc):\n",
    "    for i in range(300):\n",
    "        actions = valid_actions(env_data, loc)\n",
    "        real_act = random.choice(actions)\n",
    "        loc = move_robot(loc, real_act)\n",
    "        if env_data[loc[0]][loc[1]] == 3:\n",
    "            print('在第' + str((i+1)) + '个回合找到宝藏！')\n",
    "            break\n",
    "        "
   ]
  },
  {
   "cell_type": "code",
   "execution_count": 16,
   "metadata": {},
   "outputs": [],
   "source": [
    "# 运行\n",
    "random_choose_actions(env_data, robot_current_loc)"
   ]
  },
  {
   "cell_type": "markdown",
   "metadata": {},
   "source": [
    "\n",
    "---\n",
    "\n",
    "---\n",
    "\n",
    "## （可选）第三节 控制机器人走到终点\n",
    "\n",
    "## 3.1 控制机器人走到终点\n",
    "\n",
    "在这里，你将综合上述的知识，编码控制机器人走到终点。这个任务对刚刚入门的你来说可能有些挑战，所以它是一个选做题。\n",
    "\n",
    "**任务10**：尝试实现一个算法，能够对给定的模拟环境，输出机器人的行动策略，使之能够走到终点。\n",
    "\n",
    "提示：_你可以尝试参考：_\n",
    "* 深度/广度优先算法。\n",
    "    以及以下参考资料：\n",
    "    1. https://blog.csdn.net/raphealguo/article/details/7523411 \n",
    "    2. https://www.cnblogs.com/yupeng/p/3414736.html \n",
    "* A星算法。\n",
    "    以及以下参考资料：\n",
    "    1. https://baike.baidu.com/item/A%2A算法 \n",
    "    2. https://blog.csdn.net/hitwhylz/article/details/23089415"
   ]
  },
  {
   "cell_type": "code",
   "execution_count": 18,
   "metadata": {},
   "outputs": [
    {
     "name": "stdout",
     "output_type": "stream",
     "text": [
      "Collecting package metadata (current_repodata.json): ...working... done\n",
      "Solving environment: ...working... failed with initial frozen solve. Retrying with flexible solve.\n",
      "Collecting package metadata (repodata.json): ...working... done\n",
      "Solving environment: ...working... failed with initial frozen solve. Retrying with flexible solve.\n"
     ]
    },
    {
     "name": "stderr",
     "output_type": "stream",
     "text": [
      "\n",
      "PackagesNotFoundError: The following packages are not available from current channels:\n",
      "\n",
      "  - point\n",
      "\n",
      "Current channels:\n",
      "\n",
      "  - https://repo.anaconda.com/pkgs/main/win-64\n",
      "  - https://repo.anaconda.com/pkgs/main/noarch\n",
      "  - https://repo.anaconda.com/pkgs/r/win-64\n",
      "  - https://repo.anaconda.com/pkgs/r/noarch\n",
      "  - https://repo.anaconda.com/pkgs/msys2/win-64\n",
      "  - https://repo.anaconda.com/pkgs/msys2/noarch\n",
      "\n",
      "To search for alternate channels that may provide the conda package you're\n",
      "looking for, navigate to\n",
      "\n",
      "    https://anaconda.org\n",
      "\n",
      "and use the search bar at the top of the page.\n",
      "\n",
      "\n"
     ]
    }
   ],
   "source": [
    "import sys\n",
    "!conda install --yes --prefix {sys.prefix} point"
   ]
  },
  {
   "cell_type": "code",
   "execution_count": 22,
   "metadata": {},
   "outputs": [
    {
     "name": "stdout",
     "output_type": "stream",
     "text": [
      "0 2 2 2 2 2 2 2 0 \n",
      "0 0 2 2 2 2 2 0 0 \n",
      "2 0 0 2 2 2 0 0 2 \n",
      "2 2 0 0 2 0 0 2 2 \n",
      "2 2 2 0 0 0 2 2 2 \n",
      "关闭表中\n",
      "----------------------\n",
      "8 2 2 2 2 2 2 2 0 \n",
      "8 8 2 2 2 2 2 8 8 \n",
      "2 8 8 2 2 2 8 8 2 \n",
      "2 2 8 8 2 8 8 2 2 \n",
      "2 2 2 8 8 8 2 2 2 \n"
     ]
    }
   ],
   "source": [
    "##TODO 13 实现你的算法\n",
    "\n",
    "# AStar.py\n",
    "#from Point import Point\n",
    "\n",
    "\n",
    "class AStar:\n",
    "\n",
    "    class Node:\n",
    "        def __init__(self, point, endPoint, g=0):\n",
    "            self.point = point  # 自己的坐标\n",
    "            self.father = None  # 父节点\n",
    "            self.g = g     # g值\n",
    "            self. h = (abs(endPoint.x - point.x)+abs(endPoint.y - point.y)) * 10  # h值的计算方法\n",
    "\n",
    "    def __init__(self, map2d, startPoint, endPoint, passTag=0):\n",
    "        \"\"\"\n",
    "        构造AStar算法的启动条件\n",
    "        :param map2d: Array2D类型的寻路数组\n",
    "        :param startPoint: Point或二元组类型的寻路起点\n",
    "        :param endPoint: Point或二元组类型的寻路终点\n",
    "        :param passTag: int类型的可行走标记（若地图数据!=passTag即为障碍）\n",
    "        \"\"\"\n",
    "\n",
    "        # 开启表\n",
    "        self.openList = []\n",
    "        # 关闭表\n",
    "        self.closeList = []\n",
    "        # 寻路地图\n",
    "        self.map2d = map2d\n",
    "        # 起点终点\n",
    "        if isinstance(startPoint, Point) and isinstance(endPoint, Point):\n",
    "            self.startPoint = startPoint\n",
    "            self.endPoint = endPoint\n",
    "        else:\n",
    "            self.startPoint = Point(*startPoint)\n",
    "            self.endPoint = Point(*endPoint)\n",
    "\n",
    "        # 可行走标记\n",
    "        self.passTag = passTag\n",
    "\n",
    "    def getMinNode(self):\n",
    "        \"\"\"\n",
    "        获得openlist中F值最小的节点\n",
    "        :return: Node\n",
    "        \"\"\"\n",
    "        currentNode = self.openList[0]\n",
    "        for node in self.openList:\n",
    "            if node.g + node.h < currentNode.g + currentNode.h:\n",
    "                currentNode = node\n",
    "        return currentNode\n",
    "\n",
    "    def pointInCloseList(self, point):\n",
    "        for node in self.closeList:\n",
    "            if node.point._eq_(point):\n",
    "                return True\n",
    "        return False\n",
    "\n",
    "    def pointInOpenList(self, point):\n",
    "        for node in self.openList:\n",
    "            if node.point._eq_(point):\n",
    "                return node\n",
    "        return None\n",
    "\n",
    "    def endPointInCloseList(self):\n",
    "        for node in self.openList:\n",
    "            if node.point._eq_(self.endPoint):\n",
    "                return node\n",
    "        return None\n",
    "\n",
    "    def searchNear(self, minF, offsetX, offsetY):\n",
    "        \"\"\"\n",
    "        搜索节点周围的点\n",
    "        :param minF:F值最小的节点\n",
    "        :param offsetX:坐标偏移量\n",
    "        :param offsetY:\n",
    "        :return:\n",
    "        \"\"\"\n",
    "        # 越界检测\n",
    "        if minF.point.x + offsetX < 0 or minF.point.x + offsetX > self.map2d.w - 1 or minF.point.y + offsetY < 0 \\\n",
    "                or minF.point.y + offsetY > self.map2d.h - 1:\n",
    "            return\n",
    "\n",
    "        # 如果是障碍, 就忽略\n",
    "        if self.map2d.data[minF.point.x + offsetX][minF.point.y + offsetY] != self.passTag:\n",
    "            return\n",
    "        # 如果在关闭表中， 就忽略\n",
    "        currentPoint = Point(minF.point.x + offsetX, minF.point.y + offsetY)\n",
    "        # print((currentPoint.x, currentPoint.y))              # 检测代码正确性，待删除\n",
    "        if self.pointInCloseList(currentPoint):\n",
    "            return\n",
    "        # 设置单位花费\n",
    "        if offsetX == 0 or offsetY == 0:\n",
    "            step = 10\n",
    "        else:\n",
    "            step = 14\n",
    "        # 如果不在openList中，就把它加入openList\n",
    "        currentNode = self.pointInOpenList(currentPoint)\n",
    "        if not currentNode:\n",
    "            currentNode = AStar.Node(currentPoint, self.endPoint, g=minF.g + step)\n",
    "            currentNode.father = minF\n",
    "            self.openList.append(currentNode)\n",
    "            return\n",
    "        # 如果在openList中，判断minF到当前点的G更小\n",
    "        if minF.g + step < currentNode.g:   # 如果更小，就重新计算g值，并且改变father\n",
    "            currentNode.g = minF.g + step\n",
    "            currentNode.father = minF\n",
    "\n",
    "    def start(self):\n",
    "        \"\"\"\n",
    "        开始寻路\n",
    "        :return: None或Point列表（路径）\n",
    "        \"\"\"\n",
    "        #判断寻路终点是否是障碍\n",
    "        if self.map2d.data[self.endPoint.x][self.endPoint.y] != self.passTag:\n",
    "            return None\n",
    "        # 1.将起点放入开启列表\n",
    "        startNode = AStar.Node(self.startPoint, self.endPoint)\n",
    "        #print(startNode)\n",
    "        self.openList.append(startNode)\n",
    "        #print(self.openList[0])\n",
    "\n",
    "        # 2. 主循环逻辑\n",
    "        while True:\n",
    "            # 找到F值最小的点\n",
    "            minF = self.getMinNode()\n",
    "            # 把这个点加入closeList中，并且在openList中删除它\n",
    "            # print((minF.point.x, minF.point.y))\n",
    "            self.closeList.append(minF)\n",
    "            # print(self.closeList)\n",
    "            self.openList.remove(minF)\n",
    "            # print(self.openList)\n",
    "\n",
    "            # 判断这个节点的上下左右节点\n",
    "            self.searchNear(minF, 0, -1)\n",
    "            # print(self.openList)\n",
    "            # print(\"1\")                     # 找到minF上面的点\n",
    "            self.searchNear(minF, 0, 1)\n",
    "            # print(self.openList)\n",
    "            # print(\"2\")                      # 找到minF下面的点\n",
    "            self.searchNear(minF, -1, 0)\n",
    "            # print(self.openList)\n",
    "            # print(\"3\")                      # 找到minF左边的点\n",
    "            self.searchNear(minF,  1, 0)\n",
    "            # print(self.openList)\n",
    "            # print(\"4\")                      # 找到minF右边的点\n",
    "\n",
    "            # 判断是否终止\n",
    "            point = self.endPointInCloseList()\n",
    "            if point:   # 如果终点在关闭表中， 就返回结果\n",
    "                print(\"关闭表中\")\n",
    "                cPoint = point\n",
    "                pathList = []\n",
    "                while True:\n",
    "                    if cPoint.father:\n",
    "                        pathList.append(cPoint.point)\n",
    "                        cPoint = cPoint.father\n",
    "\n",
    "                    else:\n",
    "                        # print(pathList)\n",
    "                        # print(list(reversed(pathList)))\n",
    "                        # print(pathList.reverse())\n",
    "                        return list(reversed(pathList))\n",
    "\n",
    "            if len(self.openList) == 0:\n",
    "                return None\n",
    "            \n",
    "# Array2D.py\n",
    "class Array2D:\n",
    "    \"\"\"\n",
    "        说明：\n",
    "            1.构造方法需要两个参数，即二维数组的宽和高\n",
    "            2.成员变量w和h是二维数组的宽和高\n",
    "            3.使用：‘对象[x][y]’可以直接取到相应的值\n",
    "            4.数组的默认值都是0\n",
    "    \"\"\"\n",
    "    def __init__(self, w, h):\n",
    "        self.w = w\n",
    "        self.h = h\n",
    "        self.data = []\n",
    "        self.data = [[0 for i in range(h)] for i in range(w)]\n",
    "\n",
    "        \"\"\"\n",
    "        for y in range(self.h):\n",
    "            for x in range(self.w):\n",
    "                self.data[x][y] = 0\n",
    "        \"\"\"\n",
    "\n",
    "    def showArray2D(self):\n",
    "        for y in range(self.h):\n",
    "            for x in range(self.w):\n",
    "                print(self.data[x][y], end=' ')\n",
    "            print(\"\")\n",
    "            \n",
    "# Point.py\n",
    "class Point:\n",
    "    \"\"\"表示一个点\"\"\"\n",
    "    def __init__(self, x, y):\n",
    "        self.x = x\n",
    "        self.y = y\n",
    "\n",
    "    def _eq_(self, other):\n",
    "        if self.x == other.x and self.y == other.y:\n",
    "            return True\n",
    "        return False\n",
    "\n",
    "    def _str_(self):\n",
    "        return \"x:\" + str(self.x) + \",y:\" + str(self.y)\n",
    "    \n",
    "#demo.py\n",
    "#import Array2D\n",
    "#import Point\n",
    "#import AStar\n",
    "\n",
    "if __name__ == '__main__':\n",
    "        # 创建一个10*10的地图\n",
    "        map2d = Array2D(9, 5)\n",
    "\n",
    "        # print(map2d.data)\n",
    "        # 设置障碍\n",
    "        map2d.data[1][0] = 2\n",
    "        map2d.data[2][0] = 2\n",
    "        map2d.data[3][0] = 2\n",
    "        map2d.data[4][0] = 2\n",
    "        map2d.data[5][0] = 2\n",
    "        map2d.data[6][0] = 2\n",
    "        map2d.data[7][0] = 2\n",
    "        map2d.data[2][1] = 2\n",
    "        map2d.data[3][1] = 2\n",
    "        map2d.data[4][1] = 2\n",
    "        map2d.data[5][1] = 2\n",
    "        map2d.data[6][1] = 2\n",
    "        map2d.data[0][2] = 2\n",
    "        map2d.data[3][2] = 2\n",
    "        map2d.data[4][2] = 2\n",
    "        map2d.data[5][2] = 2\n",
    "        map2d.data[8][2] = 2\n",
    "        map2d.data[0][3] = 2\n",
    "        map2d.data[1][3] = 2\n",
    "        map2d.data[4][3] = 2\n",
    "        map2d.data[7][3] = 2\n",
    "        map2d.data[8][3] = 2\n",
    "        map2d.data[0][4] = 2\n",
    "        map2d.data[1][4] = 2\n",
    "        map2d.data[2][4] = 2\n",
    "        map2d.data[6][4] = 2\n",
    "        map2d.data[7][4] = 2\n",
    "        map2d.data[8][4] = 2\n",
    "\n",
    "        map2d.showArray2D()\n",
    "\n",
    "        # 创建AStar对象， 并设置起点为8, 0 终点为0, 0\n",
    "        aStar = AStar(map2d, Point(8,0), Point(0,0))\n",
    "\n",
    "        # 开始寻路\n",
    "        pathList = aStar.start()\n",
    "\n",
    "        # 将计算得到的路径用8表示\n",
    "        for point in pathList:\n",
    "            map2d.data[point.x][point.y] = 8\n",
    "        print(\"----------------------\")\n",
    "        # 再次显示地图\n",
    "        map2d.showArray2D()"
   ]
  },
  {
   "cell_type": "markdown",
   "metadata": {},
   "source": [
    "> 注意: 当你写完了所有的代码，并且回答了所有的问题。你就可以把你的 iPython Notebook 导出成 HTML 文件。你可以在菜单栏，这样导出**File -> Download as -> HTML (.html)**把这个 HTML 和这个 iPython notebook 一起做为你的作业提交。"
   ]
  }
 ],
 "metadata": {
  "kernelspec": {
   "display_name": "Python 3",
   "language": "python",
   "name": "python3"
  },
  "language_info": {
   "codemirror_mode": {
    "name": "ipython",
    "version": 3
   },
   "file_extension": ".py",
   "mimetype": "text/x-python",
   "name": "python",
   "nbconvert_exporter": "python",
   "pygments_lexer": "ipython3",
   "version": "3.7.4"
  }
 },
 "nbformat": 4,
 "nbformat_minor": 2
}
